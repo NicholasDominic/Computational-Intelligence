{
 "cells": [
  {
   "cell_type": "code",
   "execution_count": 1,
   "metadata": {},
   "outputs": [],
   "source": [
    "from math import sqrt\n",
    "from operator import sub\n",
    "from matplotlib import pyplot as plt\n",
    "from random import random, randint"
   ]
  },
  {
   "cell_type": "code",
   "execution_count": 2,
   "metadata": {},
   "outputs": [],
   "source": [
    "class Graph(object):\n",
    "    def __init__(self, cost_matrix: list, rank: int):\n",
    "        \"\"\"\n",
    "        :param cost_matrix:\n",
    "        :param rank: rank of the cost matrix\n",
    "        \"\"\"\n",
    "        \n",
    "        self.matrix = cost_matrix\n",
    "        self.rank = rank\n",
    "        self.pheromone = [[1 / (rank * rank) for j in range(rank)] for i in range(rank)]"
   ]
  },
  {
   "cell_type": "code",
   "execution_count": 3,
   "metadata": {},
   "outputs": [],
   "source": [
    "class ACO(object):\n",
    "    def __init__(self, ant_count: int, generations: int, alpha: float, beta: float, rho: float, q: int, strategy: int):\n",
    "        \"\"\"\n",
    "        :param ant_count:\n",
    "        :param generations:\n",
    "        :param alpha: relative importance of pheromone\n",
    "        :param beta: relative importance of heuristic information\n",
    "        :param rho: pheromone residual coefficient\n",
    "        :param q: pheromone intensity\n",
    "        :param strategy: pheromone update strategy. 0 - ant-system, 1 - ant-density, 2 - ant-quantity\n",
    "        \"\"\"\n",
    "        \n",
    "        self.Q = q\n",
    "        self.rho = rho\n",
    "        self.beta = beta\n",
    "        self.alpha = alpha\n",
    "        self.ant_count = ant_count\n",
    "        self.generations = generations\n",
    "        self.update_strategy = strategy\n",
    "\n",
    "    def _update_pheromone(self, graph: Graph, ants: list):\n",
    "        for i, row in enumerate(graph.pheromone):\n",
    "            for j, col in enumerate(row):\n",
    "                graph.pheromone[i][j] *= self.rho\n",
    "                for ant in ants:\n",
    "                    graph.pheromone[i][j] += ant.pheromone_delta[i][j]\n",
    "\n",
    "    def solve(self, graph: Graph):        \n",
    "        best_cost = float('inf')\n",
    "        best_solution = []\n",
    "        \n",
    "        for gen in range(self.generations):\n",
    "            ants = [_Ant(self, graph) for i in range(self.ant_count)]\n",
    "            for ant in ants:\n",
    "                for i in range(graph.rank - 1):\n",
    "                    ant._select_next()\n",
    "                    \n",
    "                ant.total_cost += graph.matrix[ant.tabu[-1]][ant.tabu[0]]\n",
    "                ant.tabu.append(ant.tabu[0])\n",
    "                \n",
    "                if ant.total_cost < best_cost:\n",
    "                    best_cost = ant.total_cost\n",
    "                    best_solution = [] + ant.tabu\n",
    "                \n",
    "                # update pheromone\n",
    "                ant._update_pheromone_delta()\n",
    "                \n",
    "            self._update_pheromone(graph, ants)\n",
    "            # print('generation #{}, best cost: {}, path: {}'.format(gen, best_cost, best_solution))\n",
    "        return best_solution, best_cost"
   ]
  },
  {
   "cell_type": "code",
   "execution_count": 4,
   "metadata": {},
   "outputs": [],
   "source": [
    "class _Ant(object):\n",
    "    def __init__(self, aco: ACO, graph: Graph):\n",
    "        self.colony = aco\n",
    "        self.graph = graph\n",
    "        self.total_cost = 0.0\n",
    "        self.tabu = []  # tabu list\n",
    "        self.pheromone_delta = []  # the local increase of pheromone\n",
    "        self.allowed = [i for i in range(graph.rank)]  # nodes which are allowed for the next selection\n",
    "        self.eta = [[0 if i == j else 1 / graph.matrix[i][j] for j in range(graph.rank)] for i in range(graph.rank)]  # heuristic information\n",
    "        start = randint(0, graph.rank - 1)  # start from any node\n",
    "        self.tabu.append(start)\n",
    "        self.current = start\n",
    "        self.allowed.remove(start)\n",
    "\n",
    "    def _select_next(self):\n",
    "        denominator = 0\n",
    "        for i in self.allowed:\n",
    "            denominator += self.graph.pheromone[self.current][i] ** self.colony.alpha * self.eta[self.current][i] ** self.colony.beta\n",
    "        \n",
    "        probabilities = [0 for i in range(self.graph.rank)]  # probabilities for moving to a node in the next step\n",
    "        for i in range(self.graph.rank):\n",
    "            try:\n",
    "                self.allowed.index(i)  # test if allowed list contains i\n",
    "                probabilities[i] = self.graph.pheromone[self.current][i] ** self.colony.alpha * \\\n",
    "                    self.eta[self.current][i] ** self.colony.beta / denominator\n",
    "            except ValueError:\n",
    "                pass  # do nothing\n",
    "        # select next node by probability roulette\n",
    "        selected = 0\n",
    "        #rand = random()\n",
    "        max_prob = 0\n",
    "        for i, probability in enumerate(probabilities):\n",
    "#             rand -= probability\n",
    "#             if rand <= 0:\n",
    "#                 selected = i\n",
    "#                 break\n",
    "            if probability > max_prob :\n",
    "                max_prob = probability\n",
    "                selected = i\n",
    "            \n",
    "        self.allowed.remove(selected)\n",
    "        self.tabu.append(selected)\n",
    "        self.total_cost += self.graph.matrix[self.current][selected]\n",
    "        self.current = selected\n",
    "\n",
    "    def _update_pheromone_delta(self):\n",
    "        self.pheromone_delta = [[0 for j in range(self.graph.rank)] for i in range(self.graph.rank)]\n",
    "        \n",
    "        for _ in range(1, len(self.tabu)): # len(self.tabu) == 32\n",
    "            i = self.tabu[_ - 1]\n",
    "            j = self.tabu[_]\n",
    "            \n",
    "            if self.colony.update_strategy == 1:  # ant-density system\n",
    "                self.pheromone_delta[i][j] = self.colony.Q\n",
    "            elif self.colony.update_strategy == 2:  # ant-quantity system\n",
    "                self.pheromone_delta[i][j] = self.colony.Q / self.graph.matrix[i][j]\n",
    "            else:  # ant system\n",
    "                self.pheromone_delta[i][j] = self.colony.Q / self.total_cost"
   ]
  },
  {
   "cell_type": "code",
   "execution_count": 22,
   "metadata": {},
   "outputs": [],
   "source": [
    "def plot(points, path: list):\n",
    "    x = [p[0] for p in points]\n",
    "    y = [p[1] for p in points]\n",
    "    y = list(map(sub, [max(y) for i in range(len(points))], y))\n",
    "    \n",
    "    plt.plot(x, y, 'co', figure=plt.figure(figsize=(12, 8))) # co == 'cyan circle marker' # figsize(width/horizontally, height/vertically)\n",
    "    for a in range(1, len(path)):\n",
    "        i = path[a - 1]\n",
    "        j = path[a]\n",
    "        plt.arrow(x=x[i], y=y[i], dx=x[j] - x[i], dy=y[j] - y[i], # dx, dy == length of arrow along x, y direction\n",
    "            color='r' if a < len(path)-1 else 'b',\n",
    "            ls=\"-\" if a < len(path)-1 else \":\", # ls == linestyle\n",
    "            length_includes_head=True) # head is counted in calculating the length\n",
    "    \n",
    "#     plt.xlim(0, max(x) * 1.1)\n",
    "#     plt.ylim(0, max(y) * 1.1)\n",
    "    plt.show()"
   ]
  },
  {
   "cell_type": "code",
   "execution_count": 6,
   "metadata": {},
   "outputs": [],
   "source": [
    "def distance(city1: dict, city2: dict):\n",
    "    return sqrt((city1['x'] - city2['x']) ** 2 + (city1['y'] - city2['y']) ** 2)"
   ]
  },
  {
   "cell_type": "code",
   "execution_count": 7,
   "metadata": {},
   "outputs": [],
   "source": [
    "def main():\n",
    "    cities, points, cost_matrix = [], [], []\n",
    "    \n",
    "    with open('./data/chn31.txt') as f:\n",
    "        for line in f.readlines():\n",
    "            city = line.split(' ')\n",
    "            cities.append(dict(index=int(city[0]), x=int(city[1]), y=int(city[2])))\n",
    "            points.append((int(city[1]), int(city[2])))\n",
    "\n",
    "#     print(cities)\n",
    "#     print(points)\n",
    "\n",
    "    rank = len(cities)\n",
    "    for i in range(rank):\n",
    "        row = []\n",
    "        for j in range(rank):\n",
    "            row.append(distance(cities[i], cities[j]))\n",
    "        cost_matrix.append(row)\n",
    "#     print(cost_matrix)\n",
    "\n",
    "    aco = ACO(10, 100, 1.0, 10.0, 0.5, 10, 2)\n",
    "    graph = Graph(cost_matrix, rank)\n",
    "    path, cost = aco.solve(graph)\n",
    "    print('cost: {}, path: {}'.format(cost, path))\n",
    "    plot(points, path)"
   ]
  },
  {
   "cell_type": "code",
   "execution_count": 23,
   "metadata": {},
   "outputs": [
    {
     "name": "stdout",
     "output_type": "stream",
     "text": [
      "cost: 17097.666568773857, path: [15, 3, 1, 4, 5, 6, 12, 11, 13, 10, 22, 24, 19, 23, 18, 16, 17, 2, 20, 21, 25, 27, 26, 29, 30, 28, 0, 14, 7, 8, 9, 15]\n"
     ]
    },
    {
     "data": {
      "image/png": "[encoded data removed]",
      "text/plain": [
       "<Figure size 864x576 with 1 Axes>"
      ]
     },
     "metadata": {
      "needs_background": "light"
     },
     "output_type": "display_data"
    }
   ],
   "source": [
    "main()"
   ]
  }
 ],
 "metadata": {
  "kernelspec": {
   "display_name": "Python 3",
   "language": "python",
   "name": "python3"
  },
  "language_info": {
   "codemirror_mode": {
    "name": "ipython",
    "version": 3
   },
   "file_extension": ".py",
   "mimetype": "text/x-python",
   "name": "python",
   "nbconvert_exporter": "python",
   "pygments_lexer": "ipython3",
   "version": "3.7.1"
  }
 },
 "nbformat": 4,
 "nbformat_minor": 2
}
